{
  "nbformat": 4,
  "nbformat_minor": 0,
  "metadata": {
    "colab": {
      "name": "1. Вычисления с помощью Numpy.ipynb",
      "provenance": []
    },
    "kernelspec": {
      "display_name": "Python 3",
      "language": "python",
      "name": "python3"
    },
    "language_info": {
      "codemirror_mode": {
        "name": "ipython",
        "version": 3
      },
      "file_extension": ".py",
      "mimetype": "text/x-python",
      "name": "python",
      "nbconvert_exporter": "python",
      "pygments_lexer": "ipython3",
      "version": "3.6.7"
    }
  },
  "cells": [
    {
      "cell_type": "markdown",
      "metadata": {
        "id": "iXghneL0VCkZ"
      },
      "source": [
        "# Вычисления с помощью NumPy"
      ]
    },
    {
      "cell_type": "markdown",
      "metadata": {
        "id": "zr14QkAhVCka"
      },
      "source": [
        "## Многомерные массивы в NumPy\n",
        "\n",
        "Библиотека `numpy` поддерживает работу с многомерными массивами, в том числе, с матрицами, и очень хороша для научных расчётов. Библиотека написана не только на `Python`, но и на языке `C`, который является более низкоуровневым и работает значительно быстрее, поэтому расчёты в `numpy` производятся во много раз быстрее, чем если бы мы использовали для этого стандартные структуры данных из `Python`.\n",
        "\n",
        "Установить библиотеку `numpy` можно следующим образом:\n",
        "\n",
        "* Если вы используете `Python` в составе дистрибутива `Anaconda`, то достаточно в командной строке ввести:   \n",
        "`conda install numpy`\n",
        "\n",
        "* Если вы используете `Python` отдельно, то же самое можно сделать с помощью пакетного менеджера `pip`:   \n",
        "`pip install numpy`"
      ]
    },
    {
      "cell_type": "code",
      "metadata": {
        "id": "OuuaXS_-GeuE"
      },
      "source": [
        "import numpy as np"
      ],
      "execution_count": null,
      "outputs": []
    },
    {
      "cell_type": "markdown",
      "metadata": {
        "id": "AN-OFV6SVCkb"
      },
      "source": [
        "Чтобы задать `numpy`-массив, достаточно задать обычный питоновский список `list`, а затем поместить его внутрь функции `np.array`:"
      ]
    },
    {
      "cell_type": "code",
      "metadata": {
        "id": "67uF1VYkVCkb",
        "outputId": "d3a5f5c7-f903-4277-a036-0aa60cc31fee"
      },
      "source": [
        "a = np.array([1, 2, 3])\n",
        "\n",
        "print(a)"
      ],
      "execution_count": null,
      "outputs": [
        {
          "output_type": "stream",
          "text": [
            "[1 2 3]\n"
          ],
          "name": "stdout"
        }
      ]
    },
    {
      "cell_type": "markdown",
      "metadata": {
        "id": "-1hDuex3VCkb"
      },
      "source": [
        "Внутрь этой функции можно подавать также питоновский кортеж `tuple`.\n",
        "\n",
        "Проверим, к какому типу относится массив `a`:"
      ]
    },
    {
      "cell_type": "code",
      "metadata": {
        "id": "c-TUFJ62VCkc",
        "outputId": "0f3f68c6-96ef-454f-fe0c-69144e7bcc0e"
      },
      "source": [
        "type(a)"
      ],
      "execution_count": null,
      "outputs": [
        {
          "output_type": "execute_result",
          "data": {
            "text/plain": [
              "numpy.ndarray"
            ]
          },
          "metadata": {
            "tags": []
          },
          "execution_count": 3
        }
      ]
    },
    {
      "cell_type": "markdown",
      "metadata": {
        "id": "aZSHHh1eVCkc"
      },
      "source": [
        "`ndarray` - сокращение от $n$-dimensional array ($n$-мерный массив).\n",
        "\n",
        "В отличие от стандартных питоновских структур данных, в `numpy` массивы предпочитают данные одного типа. Например, если функция `np.array` вызывается от списка, содержащего как целые (`int`), так и дробные (`float`) значения, то в результирующем массиве все значения будут приведены к типу `float`. Аналогично, если в подаваемом списке есть хотя бы одна строка `str`, то в соответствующем массиве все значения будут приведены к типу `str`. Если мы хотим задать свой тип, к которому нужно привести данные, это можно сделать с помощью аргумента `dtype`:"
      ]
    },
    {
      "cell_type": "code",
      "metadata": {
        "id": "KjSEySY9VCkc",
        "outputId": "76782f56-22de-4740-e915-309654e93abb"
      },
      "source": [
        "a = np.array([1, 2, 3.6], dtype=str)\n",
        "\n",
        "print(a)"
      ],
      "execution_count": null,
      "outputs": [
        {
          "output_type": "stream",
          "text": [
            "['1' '2' '3.6']\n"
          ],
          "name": "stdout"
        }
      ]
    },
    {
      "cell_type": "markdown",
      "metadata": {
        "id": "l2o4IGIrVCkc"
      },
      "source": [
        "Получить конкретный элемент массива можно теми же способами, что и в стандартных питоновских структурах данных - с помощью квадратных скобок. В `numpy`, как и во всём питоне, индексация начинается с нуля. Например, получить второй элемент из массива `a` (т.е. элемент с индексом $1$) можно так:"
      ]
    },
    {
      "cell_type": "code",
      "metadata": {
        "id": "i6wYt7xSVCkc",
        "outputId": "d21132e4-7567-4e33-bbbc-039d0cc27804"
      },
      "source": [
        "a[1]"
      ],
      "execution_count": null,
      "outputs": [
        {
          "output_type": "execute_result",
          "data": {
            "text/plain": [
              "'2'"
            ]
          },
          "metadata": {
            "tags": []
          },
          "execution_count": 5
        }
      ]
    },
    {
      "cell_type": "markdown",
      "metadata": {
        "id": "pS1IjeaqVCkd"
      },
      "source": [
        "Также в `numpy` массивах можно использовать отрицательную индексацию и делать срезы, как и в стандартных списках из питона:"
      ]
    },
    {
      "cell_type": "code",
      "metadata": {
        "id": "gpdp66URVCkd",
        "outputId": "e1ace565-c599-4292-b72f-d7c56a88079d"
      },
      "source": [
        "a[-1]"
      ],
      "execution_count": null,
      "outputs": [
        {
          "output_type": "execute_result",
          "data": {
            "text/plain": [
              "'3.6'"
            ]
          },
          "metadata": {
            "tags": []
          },
          "execution_count": 6
        }
      ]
    },
    {
      "cell_type": "code",
      "metadata": {
        "id": "mvW3UBt-VCkd",
        "outputId": "b5f17944-d693-4de5-81c7-ebd4ed94c393"
      },
      "source": [
        "a[1:3]"
      ],
      "execution_count": null,
      "outputs": [
        {
          "output_type": "execute_result",
          "data": {
            "text/plain": [
              "array(['2', '3.6'], dtype='<U3')"
            ]
          },
          "metadata": {
            "tags": []
          },
          "execution_count": 7
        }
      ]
    },
    {
      "cell_type": "markdown",
      "metadata": {
        "id": "uummlDSVVCkd"
      },
      "source": [
        "### Двумерные массивы\n",
        "\n",
        "Пока что мы работали лишь с одномерными массивами. Также в `numpy` можно задать и многомерные массивы. Например, двумерный массив - это массив, каждый элемент из которого - это снова массив.\n",
        "\n",
        "Для `numpy`-массива `a` можно проверить его размерность с помощью атрибута `ndim` и форму с помощью атрибута `shape`:"
      ]
    },
    {
      "cell_type": "code",
      "metadata": {
        "id": "KH5qvPU_VCkd",
        "outputId": "02361de5-a1f0-4242-bd6d-b85bc01aa79b"
      },
      "source": [
        "print(\"Размерность a: {}\".format(a.ndim))\n",
        "\n",
        "print(\"Форма a: {}\".format(a.shape))"
      ],
      "execution_count": null,
      "outputs": [
        {
          "output_type": "stream",
          "text": [
            "Размерность a: 1\n",
            "Форма a: (3,)\n"
          ],
          "name": "stdout"
        }
      ]
    },
    {
      "cell_type": "markdown",
      "metadata": {
        "id": "YR62X-AOVCkd"
      },
      "source": [
        "В этом случае размерность равна $1$, а `shape` возвращает кортеж из одного элемента. Зададим теперь двумерный массив:"
      ]
    },
    {
      "cell_type": "code",
      "metadata": {
        "id": "IszOgqFRGexN",
        "outputId": "582c35f3-33ee-4a8a-d36c-146f5a65ca48"
      },
      "source": [
        "A = np.array([[1, 2, 3, 1], \n",
        "              [4, 5, 6, 4], \n",
        "              [7, 8, 9, 7]])\n",
        "\n",
        "print(A)\n",
        "\n",
        "print(\"Размерность A: {}\".format(A.ndim))\n",
        "\n",
        "print(\"Форма A: {}\".format(A.shape))"
      ],
      "execution_count": null,
      "outputs": [
        {
          "output_type": "stream",
          "text": [
            "[[1 2 3 1]\n",
            " [4 5 6 4]\n",
            " [7 8 9 7]]\n",
            "Размерность A: 2\n",
            "Форма A: (3, 4)\n"
          ],
          "name": "stdout"
        }
      ]
    },
    {
      "cell_type": "markdown",
      "metadata": {
        "id": "thUmVSfsVCkd"
      },
      "source": [
        "Атрибут `shape` - это всегда кортеж, размер которого равен размерности массива. Каждый элемент этого кортежа - это размер в каждом измерении. Например, у нашей матрицы $A$, судя по этому атрибуту, $3$ строки и $4$ столбца.\n",
        "\n",
        "С помощью атрибута `size` можно увидеть общее количество элементов массива:"
      ]
    },
    {
      "cell_type": "code",
      "metadata": {
        "id": "WvakRsYfVCkd",
        "outputId": "6d246a8f-e305-433c-9208-25d21661eac8"
      },
      "source": [
        "A.size"
      ],
      "execution_count": null,
      "outputs": [
        {
          "output_type": "execute_result",
          "data": {
            "text/plain": [
              "12"
            ]
          },
          "metadata": {
            "tags": []
          },
          "execution_count": 10
        }
      ]
    },
    {
      "cell_type": "markdown",
      "metadata": {
        "id": "7Z_oSBCvVCke"
      },
      "source": [
        "В случае вложенных друг в друга стандартных питоновских списков `list`, чтобы получить конкретный элемент массива, нужно использовать несколько пар квадратных скобок: `A[0][0]`. В `numpy` массивы также поддерживают такую запись, однако, здесь есть и более удобный вариант - просто писать индексы через запятую:"
      ]
    },
    {
      "cell_type": "code",
      "metadata": {
        "id": "3fqHqjMLVCke",
        "outputId": "9e46e164-5b7e-47f7-8830-b5a6fb6e8ce4"
      },
      "source": [
        "A[0, 0]"
      ],
      "execution_count": null,
      "outputs": [
        {
          "output_type": "execute_result",
          "data": {
            "text/plain": [
              "1"
            ]
          },
          "metadata": {
            "tags": []
          },
          "execution_count": 11
        }
      ]
    },
    {
      "cell_type": "markdown",
      "metadata": {
        "id": "UFTTysybVCke"
      },
      "source": [
        "Это же работает и в случае отрицательной индексации и в случае срезов:"
      ]
    },
    {
      "cell_type": "code",
      "metadata": {
        "id": "wdlAgnbzVCke",
        "outputId": "21d373c4-c372-42fe-e91d-e849653edd14"
      },
      "source": [
        "A[-1, -2]"
      ],
      "execution_count": null,
      "outputs": [
        {
          "output_type": "execute_result",
          "data": {
            "text/plain": [
              "9"
            ]
          },
          "metadata": {
            "tags": []
          },
          "execution_count": 12
        }
      ]
    },
    {
      "cell_type": "code",
      "metadata": {
        "id": "WUmgCpnaVCke",
        "outputId": "fc5715ab-ae78-4dca-d204-60e27784adca"
      },
      "source": [
        "A[1:, :3]"
      ],
      "execution_count": null,
      "outputs": [
        {
          "output_type": "execute_result",
          "data": {
            "text/plain": [
              "array([[4, 5, 6],\n",
              "       [7, 8, 9]])"
            ]
          },
          "metadata": {
            "tags": []
          },
          "execution_count": 13
        }
      ]
    },
    {
      "cell_type": "markdown",
      "metadata": {
        "id": "aSofJuWrVCke"
      },
      "source": [
        "В случае срезов для `numpy`-массивов важно отметить, что, записывая срез `numpy`-массива, мы ничего нового не создаём, мы лишь получаем _представление_ (_view_) - ссылку на какие-то отдельные элементы оригинального массива. Это означает, что если мы \"создали\" срез из `numpy`-массива, а затем поменяли в нём что-то - эти изменения коснутся и оригинального массива:"
      ]
    },
    {
      "cell_type": "code",
      "metadata": {
        "id": "MiarR747VCke",
        "outputId": "f74110e7-56a6-470e-90f4-00d77b6b8cbc"
      },
      "source": [
        "print(A)"
      ],
      "execution_count": null,
      "outputs": [
        {
          "output_type": "stream",
          "text": [
            "[[1 2 3 1]\n",
            " [4 5 6 4]\n",
            " [7 8 9 7]]\n"
          ],
          "name": "stdout"
        }
      ]
    },
    {
      "cell_type": "code",
      "metadata": {
        "id": "WL-VhrhUVCkf",
        "outputId": "e40a2b88-adf8-4e24-af85-e07103f8974b"
      },
      "source": [
        "B = A[1:, :3]\n",
        "\n",
        "print(B)"
      ],
      "execution_count": null,
      "outputs": [
        {
          "output_type": "stream",
          "text": [
            "[[4 5 6]\n",
            " [7 8 9]]\n"
          ],
          "name": "stdout"
        }
      ]
    },
    {
      "cell_type": "code",
      "metadata": {
        "id": "9J641s3sVCkf",
        "outputId": "4a9f74d7-4bba-4c59-ce17-8cc0a0da2904"
      },
      "source": [
        "B[0, 0] = -4\n",
        "\n",
        "print(A)"
      ],
      "execution_count": null,
      "outputs": [
        {
          "output_type": "stream",
          "text": [
            "[[ 1  2  3  1]\n",
            " [-4  5  6  4]\n",
            " [ 7  8  9  7]]\n"
          ],
          "name": "stdout"
        }
      ]
    },
    {
      "cell_type": "markdown",
      "metadata": {
        "id": "vHX-RTmbVCkf"
      },
      "source": [
        "Наоборот, если мы меняем значения в оригинальном массиве, они коснутся и всех его представлений, в которых используются эти значения:"
      ]
    },
    {
      "cell_type": "code",
      "metadata": {
        "id": "yuoHH5uiVCkf",
        "outputId": "45e0df34-bea3-4038-954d-ebcc03f3e22e"
      },
      "source": [
        "A[2, 0] = -7\n",
        "\n",
        "print(B)"
      ],
      "execution_count": null,
      "outputs": [
        {
          "output_type": "stream",
          "text": [
            "[[-4  5  6]\n",
            " [-7  8  9]]\n"
          ],
          "name": "stdout"
        }
      ]
    },
    {
      "cell_type": "code",
      "metadata": {
        "id": "zkn41Q-uGexs"
      },
      "source": [
        "b = np.array([[3], \n",
        "     [1], \n",
        "     [2]])"
      ],
      "execution_count": null,
      "outputs": []
    },
    {
      "cell_type": "markdown",
      "metadata": {
        "id": "8eBk5J3tVCkf"
      },
      "source": [
        "Если мы хотим всего этого избежать и создать действительно новый массив, нужно использовать метод `copy`:"
      ]
    },
    {
      "cell_type": "code",
      "metadata": {
        "id": "P2hspVGJVCkf",
        "outputId": "4cb30102-1cdc-48ea-802c-14317b7a8631"
      },
      "source": [
        "C = A[1:3, 2:4].copy()\n",
        "\n",
        "print(C)"
      ],
      "execution_count": null,
      "outputs": [
        {
          "output_type": "stream",
          "text": [
            "[[6 4]\n",
            " [9 7]]\n"
          ],
          "name": "stdout"
        }
      ]
    },
    {
      "cell_type": "code",
      "metadata": {
        "id": "I2R3v1z_VCkf",
        "outputId": "abf96f1c-09ad-4328-dd6d-f01d3457a8c5"
      },
      "source": [
        "C[0, 0] = -6\n",
        "\n",
        "print(A)"
      ],
      "execution_count": null,
      "outputs": [
        {
          "output_type": "stream",
          "text": [
            "[[ 1  2  3  1]\n",
            " [-4  5  6  4]\n",
            " [-7  8  9  7]]\n"
          ],
          "name": "stdout"
        }
      ]
    },
    {
      "cell_type": "markdown",
      "metadata": {
        "id": "0kgY0MSLVCkf"
      },
      "source": [
        "### Типы данных в NumPy\n",
        "\n",
        "Самыми распространёнными типами в `numpy` являются два целочисленных типа: `np.int32` и `np.int64` и два дробных типа: `np.float32` и `np.float64`. Они применяются для, соответственно, $32$-битных и $64$-битных чисел. Последние требуют вдвое больше памяти, чем первые, однако, если вы знаете, что в вашем массиве, например, используются целые числа, которые по модулю больше, чем $2 \\cdot 10^9$, то стоит использовать `np.int64`."
      ]
    },
    {
      "cell_type": "markdown",
      "metadata": {
        "id": "OfUyYAhaVCkf"
      },
      "source": [
        "## Применение NumPy в линейной алгебре\n",
        "\n",
        "### Векторы\n",
        "\n",
        "Для начала разберёмся с тем, как с помощью `numpy` работать с векторами. Зададим несколько векторов:"
      ]
    },
    {
      "cell_type": "code",
      "metadata": {
        "id": "9IYgrA-xVCkf"
      },
      "source": [
        "a = np.array([0, 1, 2, 3, 4])\n",
        "b = np.array([5, 6, 7, 8, 9])"
      ],
      "execution_count": null,
      "outputs": []
    },
    {
      "cell_type": "markdown",
      "metadata": {
        "id": "5eIbqVokVCkf"
      },
      "source": [
        "Сейчас мы ограничимся случаем, когда все векторы имеют одинаковый размер.\n",
        "\n",
        "Сложение векторов можно выполнять, просто складывая массивы. Отметим, что это поведение отличается от сложения обычных питоновских списков `list`: списки в таком случае просто склеиваются в один."
      ]
    },
    {
      "cell_type": "code",
      "metadata": {
        "id": "se7H9LPnVCkf",
        "outputId": "3110a394-9c9f-48b4-ad52-6a31354ce6ec"
      },
      "source": [
        "a_ = [0, 1, 2, 3, 4]\n",
        "b_ = [5, 6, 7, 8, 9]\n",
        "\n",
        "c_ = a_ + b_\n",
        "\n",
        "print(c_)"
      ],
      "execution_count": null,
      "outputs": [
        {
          "output_type": "stream",
          "text": [
            "[0, 1, 2, 3, 4, 5, 6, 7, 8, 9]\n"
          ],
          "name": "stdout"
        }
      ]
    },
    {
      "cell_type": "markdown",
      "metadata": {
        "id": "sMrr9YOMVCkf"
      },
      "source": [
        "В `numpy` же массивы в результате такой операции складываются поэлементно:"
      ]
    },
    {
      "cell_type": "code",
      "metadata": {
        "id": "XukcFUeIVCkf",
        "outputId": "a5d80a84-f433-4ea3-bbd3-aba57f3f78e8"
      },
      "source": [
        "c = a + b\n",
        "\n",
        "print(c)"
      ],
      "execution_count": null,
      "outputs": [
        {
          "output_type": "stream",
          "text": [
            "[ 5  7  9 11 13]\n"
          ],
          "name": "stdout"
        }
      ]
    },
    {
      "cell_type": "markdown",
      "metadata": {
        "id": "dA15L8GZVCkf"
      },
      "source": [
        "Также массивы `numpy` можно складывать с помощью функции `np.add`:"
      ]
    },
    {
      "cell_type": "code",
      "metadata": {
        "id": "UmNA51WkVCkf",
        "outputId": "a9dc632b-38ed-4866-e1e2-859da59a1a5d"
      },
      "source": [
        "c = np.add(a, b)\n",
        "\n",
        "print(c)"
      ],
      "execution_count": null,
      "outputs": [
        {
          "output_type": "stream",
          "text": [
            "[ 5  7  9 11 13]\n"
          ],
          "name": "stdout"
        }
      ]
    },
    {
      "cell_type": "markdown",
      "metadata": {
        "id": "6ARg9IrCVCkg"
      },
      "source": [
        "Аналогично, есть два способа вычитать векторы друг из друга:\n",
        "\n",
        "* `d = a - b`\n",
        "* `d = np.subtract(a, b)`"
      ]
    },
    {
      "cell_type": "markdown",
      "metadata": {
        "id": "89ed3RYYVCkg"
      },
      "source": [
        "Для умножения вектора на скаляр также можно пользоваться достаточно естественной записью:"
      ]
    },
    {
      "cell_type": "code",
      "metadata": {
        "id": "v4GbxVe9VCkg",
        "outputId": "6cbf0720-7746-4c4a-f4a6-579b1c9da82b"
      },
      "source": [
        "e = a * 3\n",
        "\n",
        "print(e)"
      ],
      "execution_count": null,
      "outputs": [
        {
          "output_type": "stream",
          "text": [
            "[ 0  3  6  9 12]\n"
          ],
          "name": "stdout"
        }
      ]
    },
    {
      "cell_type": "markdown",
      "metadata": {
        "id": "kRFXsFKVVCkg"
      },
      "source": [
        "При этом скаляр может быть каким угодно. При умножении на скаляр, каждая координата вектора умножается на этот скаляр.\n",
        "\n",
        "Это поведение тоже отличается от поведения питоновских списков `list` при умножении на число. Последние при этом дублируются заданное количество раз. Скаляр здесь, кроме того, может быть только положительным целым."
      ]
    },
    {
      "cell_type": "code",
      "metadata": {
        "id": "RNSvxg2NVCkg",
        "outputId": "1bf023d4-fb31-43dc-b319-d1ed9a95188a"
      },
      "source": [
        "[1, 2, 3] * 3"
      ],
      "execution_count": null,
      "outputs": [
        {
          "output_type": "execute_result",
          "data": {
            "text/plain": [
              "[1, 2, 3, 1, 2, 3, 1, 2, 3]"
            ]
          },
          "metadata": {
            "tags": []
          },
          "execution_count": 26
        }
      ]
    },
    {
      "cell_type": "markdown",
      "metadata": {
        "id": "J4snvfoIVCkh"
      },
      "source": [
        "Вот ещё несколько способов умножить вектор на скаляр в `numpy`:\n",
        "\n",
        "* с помощью функции `np.multiply`: `e = np.multiply(a, 3)`\n",
        "* с помощью функции `np.dot`: `e = np.dot(a, 3)`\n",
        "* с помощью метода `a.dot`, который есть у любого `numpy`-массива: `e = a.dot(3)`"
      ]
    },
    {
      "cell_type": "markdown",
      "metadata": {
        "id": "xrExhy8OVCkh"
      },
      "source": [
        "Функция `np.dot` (так же, как и метод `a.dot`), кроме того, может вычислять скалярное произведение векторов, а также произведение матриц (об этом чуть позже). \n",
        "\n",
        "Посчитаем скалярное произведение векторов `a` и `b`. Напомним, что чтобы вычислить скалярное произведение двух векторов, нужно попарно перемножить их координаты (первую с первой, вторую со второй и т.д.), а затем сложить результаты."
      ]
    },
    {
      "cell_type": "code",
      "metadata": {
        "id": "5Cp02fG0VCkh",
        "outputId": "35e11d3c-8cbf-4bd8-e33b-568285513aa1"
      },
      "source": [
        "sp = a.dot(b)\n",
        "\n",
        "print(sp)"
      ],
      "execution_count": null,
      "outputs": [
        {
          "output_type": "stream",
          "text": [
            "80\n"
          ],
          "name": "stdout"
        }
      ]
    },
    {
      "cell_type": "markdown",
      "metadata": {
        "id": "YKtIbCJ3VCkh"
      },
      "source": [
        "Также скалярное произведение векторов можно вычислять с помощью оператора `@`:"
      ]
    },
    {
      "cell_type": "code",
      "metadata": {
        "id": "jyeoFFuqVCkh",
        "outputId": "4e965d0a-f554-4afb-fb17-d6ca7f5fd239"
      },
      "source": [
        "sp = a @ b\n",
        "\n",
        "print(sp)"
      ],
      "execution_count": null,
      "outputs": [
        {
          "output_type": "stream",
          "text": [
            "80\n"
          ],
          "name": "stdout"
        }
      ]
    },
    {
      "cell_type": "markdown",
      "metadata": {
        "id": "syjqTtuuVCkh"
      },
      "source": [
        "### Матрицы\n",
        "\n",
        "Разберёмся теперь, как в `numpy` работать с матрицами. Зададим пару матриц:"
      ]
    },
    {
      "cell_type": "code",
      "metadata": {
        "id": "ZtAFf29CVCkh"
      },
      "source": [
        "A = np.array([[0, 1],\n",
        "              [2, 3],\n",
        "              [4, 5]])\n",
        "\n",
        "B = np.array([[6, 7],\n",
        "              [8, 9],\n",
        "              [10, 11]])"
      ],
      "execution_count": null,
      "outputs": []
    },
    {
      "cell_type": "markdown",
      "metadata": {
        "id": "inl7kWMFVCkh"
      },
      "source": [
        "Матрицы одинакового размера можно складывать и вычитать. Как и с векторами, это можно делать с помощью операторов `+` и `-`, а также с помощью функций `np.add` и `np.subtract`."
      ]
    },
    {
      "cell_type": "code",
      "metadata": {
        "id": "dLd3Tv-ZVCkh",
        "outputId": "0a4950b4-3454-4c4f-9e8a-6d2bcca0d9c5"
      },
      "source": [
        "C = A + B\n",
        "\n",
        "print(C)"
      ],
      "execution_count": null,
      "outputs": [
        {
          "output_type": "stream",
          "text": [
            "[[ 6  8]\n",
            " [10 12]\n",
            " [14 16]]\n"
          ],
          "name": "stdout"
        }
      ]
    },
    {
      "cell_type": "code",
      "metadata": {
        "id": "0NtvXh2uVCkh",
        "outputId": "6c6a2993-9a79-4f9d-9bcd-0a70e061b042"
      },
      "source": [
        "D = A - B\n",
        "\n",
        "print(D)"
      ],
      "execution_count": null,
      "outputs": [
        {
          "output_type": "stream",
          "text": [
            "[[-6 -6]\n",
            " [-6 -6]\n",
            " [-6 -6]]\n"
          ],
          "name": "stdout"
        }
      ]
    },
    {
      "cell_type": "markdown",
      "metadata": {
        "id": "IrSJyuvQVCkh"
      },
      "source": [
        "Матрицу любого размера можно умножать на скаляр. Делается это так же, как и в случае векторов:"
      ]
    },
    {
      "cell_type": "code",
      "metadata": {
        "id": "_73Aqn1gVCkh",
        "outputId": "14ae2e0d-c8bb-4274-fa9b-93164ab5dac2"
      },
      "source": [
        "E = A * 3\n",
        "\n",
        "print(E)"
      ],
      "execution_count": null,
      "outputs": [
        {
          "output_type": "stream",
          "text": [
            "[[ 0  3]\n",
            " [ 6  9]\n",
            " [12 15]]\n"
          ],
          "name": "stdout"
        }
      ]
    },
    {
      "cell_type": "markdown",
      "metadata": {
        "id": "W6Vk3ykCVCkh"
      },
      "source": [
        "### Умножение матриц\n",
        "\n",
        "Матрицы $A$ и $B$ можно умножить друг на друга, если _число столбцов_ первой матрицы равняется _числу строк_ второй матрицы. То есть если $A$ - матрица размера $n \\times k$, то матрица $B$ должна иметь размер $k \\times m$ для некоторого $m$.\n",
        "\n",
        "В таком случае результатом умножения будет матрица $C$ размера $n \\times m$ (т.е. у неё будет строк как у первой матрицы, а столбцов - как у второй).\n",
        "\n",
        "Рассмотрим простейший случай: умножение строки (матрицы размера $1 \\times k$) на столбец (матрицу размера $k \\times 1$). Как мы уже выяснили, в результате получится матрица размера $1 \\times 1$, т.е. число. Что это за число?\n",
        "\n",
        "Чтобы посчитать это число, нужно элементы из строки и столбца попарно перемножить (первый с первым, второй со вторым и т.д.), а затем сложить результаты. Это очень похоже на скалярное произведение векторов.\n",
        "\n",
        "Например, \n",
        "\n",
        "$$\n",
        "\\left(\n",
        "\\begin{matrix}\n",
        "    1 & 2 & 3\n",
        "\\end{matrix}\n",
        "\\right)\n",
        "\\cdot\n",
        "\\left(\n",
        "\\begin{matrix}\n",
        "    1 \\\\\n",
        "    0 \\\\\n",
        "    -1\n",
        "\\end{matrix}\n",
        "\\right)\n",
        "= 1 \\cdot 1 + 2 \\cdot 0 + 3 \\cdot (-1)\n",
        "= -2.\n",
        "$$\n",
        "\n",
        "Вернёмся к общему случаю - умножению матрицы размера $n \\times k$ на матрицу размера $k \\times m$. Мы уже поняли, что это будет матрица размера $n \\times m$. Как \"заполнить\" эту матрицу?\n",
        "\n",
        "Чтобы получить число, стоящее в этой матрице на позиции $(i, j)$, нужно умножить $i$-ю строку первой матрицы на $j$-й столбец второй матрицы (так, как мы это делали выше).\n",
        "\n",
        "Например,\n",
        "\n",
        "$$\n",
        "\\left(\n",
        "\\begin{matrix}\n",
        "    1 & 0 & -1 \\\\\n",
        "    3 & 5 & -4 \n",
        "\\end{matrix}\n",
        "\\right)\n",
        "\\cdot\n",
        "\\left(\n",
        "\\begin{matrix}\n",
        "    1 & 2 & 3 \\\\\n",
        "    4 & 5 & 6 \\\\\n",
        "    7 & 8 & 9\n",
        "\\end{matrix}\n",
        "\\right)\n",
        "=\n",
        "\\left(\n",
        "\\begin{matrix}\n",
        "    1 \\cdot 1 + 0 \\cdot 4 + (-1) \\cdot 7 & 1 \\cdot 2 + 0 \\cdot 5 + (-1) \\cdot 8 & 1 \\cdot 3 + 0 \\cdot 6 + (-1) \\cdot 9 \\\\\n",
        "    3 \\cdot 1 + 5 \\cdot 4 + (-4) \\cdot 7 & 3 \\cdot 2 + 5 \\cdot 5 + (-4) \\cdot 8 & 3 \\cdot 3 + 5 \\cdot 6 + (-4) \\cdot 9\n",
        "\\end{matrix}\n",
        "\\right)\n",
        "=\n",
        "$$\n",
        "\n",
        "$$\n",
        "=\n",
        "\\left(\n",
        "\\begin{matrix}\n",
        "    -6 & -6 & -6 \\\\\n",
        "    -5 & -1 & 3\n",
        "\\end{matrix}\n",
        "\\right).\n",
        "$$"
      ]
    },
    {
      "cell_type": "markdown",
      "metadata": {
        "id": "mVQ4sWpZVCkh"
      },
      "source": [
        "Чтобы выполнять умножение матриц в библиотеке `numpy`, будем пользоваться уже знакомой функцией `np.dot`, либо методом `A.dot`:"
      ]
    },
    {
      "cell_type": "code",
      "metadata": {
        "id": "DA4WMiQkVCkh",
        "outputId": "5091e9f4-935e-4d46-8a53-bf6b4765783f"
      },
      "source": [
        "A = np.array([[1, 0, -1],\n",
        "              [3, 5, -4]])\n",
        "\n",
        "B = np.array([[1, 2, 3],\n",
        "              [4, 5, 6],\n",
        "              [7, 8, 9]])\n",
        "\n",
        "C = A.dot(B)\n",
        "\n",
        "print(C)"
      ],
      "execution_count": null,
      "outputs": [
        {
          "output_type": "stream",
          "text": [
            "[[-6 -6 -6]\n",
            " [-5 -1  3]]\n"
          ],
          "name": "stdout"
        }
      ]
    },
    {
      "cell_type": "markdown",
      "metadata": {
        "id": "OMkvlQPcVCkh"
      },
      "source": [
        "Если перемножаемые матрицы являются квадратными, то результат их умножения будет снова квадратной матрицей, причём, того же размера. Это означает, что квадратную матрицу можно возводить в степень. В `numpy` это можно делать с помощью функции `matrix_power` из модуля `numpy.linalg`:"
      ]
    },
    {
      "cell_type": "code",
      "metadata": {
        "id": "gppOhnu8VCkh",
        "outputId": "62a8d875-2a6a-4467-b865-93f6a98ac526"
      },
      "source": [
        "D = np.linalg.matrix_power(B, 3)\n",
        "\n",
        "print(D)"
      ],
      "execution_count": null,
      "outputs": [
        {
          "output_type": "stream",
          "text": [
            "[[ 468  576  684]\n",
            " [1062 1305 1548]\n",
            " [1656 2034 2412]]\n"
          ],
          "name": "stdout"
        }
      ]
    },
    {
      "cell_type": "markdown",
      "metadata": {
        "id": "1s7-9zOjVCkh"
      },
      "source": [
        "### Единичная и транспонированная матрица\n",
        "\n",
        "_Единичной матрицей_ называется квадратная матрица, у которого на главной диагонали стоят $1$, а в остальных местах - $0$. (Под _главной диагональю_ мы понимаем диагональ матрицы, которая начинается в левом верхнем углу и заканчивается в правом нижнем.) Единичную матрицу можно задать с помощью функции `np.eye`:"
      ]
    },
    {
      "cell_type": "code",
      "metadata": {
        "id": "GA2OfrANVCkh",
        "outputId": "b936948a-2477-4e21-a67d-bd22e9936ada"
      },
      "source": [
        "I = np.eye(3)\n",
        "\n",
        "print(I)"
      ],
      "execution_count": null,
      "outputs": [
        {
          "output_type": "stream",
          "text": [
            "[[1. 0. 0.]\n",
            " [0. 1. 0.]\n",
            " [0. 0. 1.]]\n"
          ],
          "name": "stdout"
        }
      ]
    },
    {
      "cell_type": "markdown",
      "metadata": {
        "id": "fKJVDjWUVCkh"
      },
      "source": [
        "При умножении любой матрицы на единичную матрицу подходящего размера, результатом будет та же самая матрица:"
      ]
    },
    {
      "cell_type": "code",
      "metadata": {
        "id": "2U28U45SVCkh",
        "outputId": "43825a42-a59e-4d72-f4df-fce21d4b99ae"
      },
      "source": [
        "print(A)"
      ],
      "execution_count": null,
      "outputs": [
        {
          "output_type": "stream",
          "text": [
            "[[ 1  0 -1]\n",
            " [ 3  5 -4]]\n"
          ],
          "name": "stdout"
        }
      ]
    },
    {
      "cell_type": "code",
      "metadata": {
        "id": "hsCGqx44VCki",
        "outputId": "ea703d65-7433-4aa9-c413-3f6ada4dbb30"
      },
      "source": [
        "E = A.dot(I)\n",
        "\n",
        "print(E)"
      ],
      "execution_count": null,
      "outputs": [
        {
          "output_type": "stream",
          "text": [
            "[[ 1.  0. -1.]\n",
            " [ 3.  5. -4.]]\n"
          ],
          "name": "stdout"
        }
      ]
    },
    {
      "cell_type": "markdown",
      "metadata": {
        "id": "DIC2-DgcVCki"
      },
      "source": [
        "Пусть дана матрица $A$. _Транспонированной матрицей_ называется матрица $A^\\top$, полученная \"отражением\" матрицы $A$ относительно её главной диагонали. Другими словами, столбцы матрицы $A$ становятся строками матрицы $A^\\top$, а строки матрицы $A$ - столбцами матрицы $A^\\top$.\n",
        "\n",
        "Вот несколько способов посчитать транспонированную матрицу в `numpy`:\n",
        "\n",
        "* с помощью функции `np.transpose`: `A_t = np.transpose(A)`\n",
        "* с помощью метода `A.transpose`: `A_t = A.transpose()`\n",
        "* с помощью атрибута `A.T`: `A_t = A.T`"
      ]
    },
    {
      "cell_type": "code",
      "metadata": {
        "id": "E2NQM5kgVCki",
        "outputId": "13cc216b-6c89-4a18-c790-24e46a62cb35"
      },
      "source": [
        "A_t = A.T\n",
        "\n",
        "print(A_t)"
      ],
      "execution_count": null,
      "outputs": [
        {
          "output_type": "stream",
          "text": [
            "[[ 1  3]\n",
            " [ 0  5]\n",
            " [-1 -4]]\n"
          ],
          "name": "stdout"
        }
      ]
    },
    {
      "cell_type": "markdown",
      "metadata": {
        "id": "QP7KjeJpVCki"
      },
      "source": [
        "### Определитель и ранг матрицы\n",
        "\n",
        "Если матрица квадратная, то мы можем посчитать её _определитель_. Определитель матрицы - это число, которое в каком-то смысле \"определяет\" её свойства. Например, обратную матрицу можно посчитать только для матрицы, определитель которой не равен $0$ (по аналогии с тем, что делить можно только на числа, не равные $0$).\n",
        "\n",
        "Посчитать определитель можно с помощью функции `det` из модуля `numpy.linalg`:"
      ]
    },
    {
      "cell_type": "code",
      "metadata": {
        "id": "n2lWishuVCki",
        "outputId": "c3b1b01a-e9fb-468b-8757-41a28b5c748d"
      },
      "source": [
        "d = np.linalg.det(B)\n",
        "\n",
        "print(d)"
      ],
      "execution_count": null,
      "outputs": [
        {
          "output_type": "stream",
          "text": [
            "0.0\n"
          ],
          "name": "stdout"
        }
      ]
    },
    {
      "cell_type": "markdown",
      "metadata": {
        "id": "oeeXtOxJVCki"
      },
      "source": [
        "Также с помощью функции `matrix_rank` из модуля `numpy.linalg` можно посчитать _ранг_ матрицы. Ранг матрицы - это число линейно независимых строк данной матрицы."
      ]
    },
    {
      "cell_type": "code",
      "metadata": {
        "id": "BHbw5oU6VCki",
        "outputId": "2eba1a13-b817-490d-c223-c86363f26035"
      },
      "source": [
        "r = np.linalg.matrix_rank(B)\n",
        "\n",
        "print(r)"
      ],
      "execution_count": null,
      "outputs": [
        {
          "output_type": "stream",
          "text": [
            "2\n"
          ],
          "name": "stdout"
        }
      ]
    },
    {
      "cell_type": "markdown",
      "metadata": {
        "id": "zrso5R2FVCki"
      },
      "source": [
        "Если матрица квадратная, то её ранг и определитель связаны следующим образом: определитель матрицы отличен от $0$ тогда и только тогда, когда все её строки являются линейно независимыми. Это, в свою очередь, означает, что её ранг равен её размеру.\n",
        "\n",
        "Например, ранг матрицы $B$ из примера выше равен $2$, при этом её размер равен $3$. Это значит, что не все её строки являются линейно независимыми, поэтому её определитель равен $0$.\n",
        "\n",
        "В отличие от определителя, ранг можно считать и для матрицы, которая не является квадратной. Посчитаем ранг матрицы $A$ размера $2 \\times 3$, определённой выше:"
      ]
    },
    {
      "cell_type": "code",
      "metadata": {
        "id": "ksbh9VMCVCki",
        "outputId": "f372057f-df94-48be-b4ef-4666c283e0a7"
      },
      "source": [
        "r1 = np.linalg.matrix_rank(A)\n",
        "\n",
        "print(r1)"
      ],
      "execution_count": null,
      "outputs": [
        {
          "output_type": "stream",
          "text": [
            "2\n"
          ],
          "name": "stdout"
        }
      ]
    },
    {
      "cell_type": "markdown",
      "metadata": {
        "id": "0dJCSfM3VCkj"
      },
      "source": [
        "Итак, если определитель квадратной матрицы не равен $0$, то мы можем посчитать для неё _обратную матрицу_. Это матрица, которая при умножении на исходную матрицу даёт единичную матрицу:\n",
        "\n",
        "$$A \\cdot A^{-1} = I$$\n",
        "\n",
        "Обратную матрицу можно посчитать с помощью функции `inv` из модуля `numpy.linalg`:"
      ]
    },
    {
      "cell_type": "code",
      "metadata": {
        "id": "yFRMkFVyVCkj",
        "outputId": "a90e22d0-d20c-4b52-a2e5-3b5d2512fb47"
      },
      "source": [
        "F = np.array([[7, 4, 5],\n",
        "              [8, 3, 2],\n",
        "              [6, 10, 12]])\n",
        "\n",
        "print(np.linalg.det(F))"
      ],
      "execution_count": null,
      "outputs": [
        {
          "output_type": "stream",
          "text": [
            "85.99999999999989\n"
          ],
          "name": "stdout"
        }
      ]
    },
    {
      "cell_type": "code",
      "metadata": {
        "id": "yvBm0JG9VCkj",
        "outputId": "f5d390b6-ffba-415a-8e23-0ae8e5494f01"
      },
      "source": [
        "F_inv = np.linalg.inv(F)\n",
        "\n",
        "print(F_inv)"
      ],
      "execution_count": null,
      "outputs": [
        {
          "output_type": "stream",
          "text": [
            "[[ 0.18604651  0.02325581 -0.08139535]\n",
            " [-0.97674419  0.62790698  0.30232558]\n",
            " [ 0.72093023 -0.53488372 -0.12790698]]\n"
          ],
          "name": "stdout"
        }
      ]
    },
    {
      "cell_type": "markdown",
      "metadata": {
        "id": "BoflL3lCVCkj"
      },
      "source": [
        "Проверим, что условие действительно выполняется:"
      ]
    },
    {
      "cell_type": "code",
      "metadata": {
        "id": "_IGFHsKgVCkj",
        "outputId": "e91d7e81-45e4-4f96-d8a3-de5e9d9c35d4"
      },
      "source": [
        "print(F.dot(F_inv))"
      ],
      "execution_count": null,
      "outputs": [
        {
          "output_type": "stream",
          "text": [
            "[[ 1.00000000e+00 -5.55111512e-16 -2.77555756e-17]\n",
            " [ 2.22044605e-16  1.00000000e+00  0.00000000e+00]\n",
            " [ 8.88178420e-16 -4.44089210e-16  1.00000000e+00]]\n"
          ],
          "name": "stdout"
        }
      ]
    },
    {
      "cell_type": "markdown",
      "metadata": {
        "id": "wlGzN2FHVCkj"
      },
      "source": [
        "Если определитель матрицы $A$ равен $d$, то определитель обратной матрицы всегда будет равен $1/d$. Именно поэтому матрицы с определителем, равным $0$, обращать нельзя."
      ]
    },
    {
      "cell_type": "code",
      "metadata": {
        "id": "OHgxMDR5VCkj",
        "outputId": "1a9513c0-f019-4c02-a733-81ba96ce488b"
      },
      "source": [
        "F_d = np.linalg.det(F)\n",
        "\n",
        "F_inv_d = np.linalg.det(F_inv)\n",
        "\n",
        "print(F_d * F_inv_d)"
      ],
      "execution_count": null,
      "outputs": [
        {
          "output_type": "stream",
          "text": [
            "0.9999999999999991\n"
          ],
          "name": "stdout"
        }
      ]
    },
    {
      "cell_type": "markdown",
      "metadata": {
        "id": "wlJzr1xKVCkj"
      },
      "source": [
        "## Генерирование массивов с заданными свойствами\n",
        "\n",
        "Здесь мы рассмотрим способы задавать массивы различных размеров.\n",
        "\n",
        "Функция `np.zeros` позволяет создать массив любой формы, состоящий из нулей:"
      ]
    },
    {
      "cell_type": "code",
      "metadata": {
        "id": "pS7xxGRmVCkj",
        "outputId": "a01dfa2b-2840-4b48-acd7-f823a8a4f85d"
      },
      "source": [
        "a = np.zeros((3, 4))\n",
        "\n",
        "print(a)"
      ],
      "execution_count": null,
      "outputs": [
        {
          "output_type": "stream",
          "text": [
            "[[0. 0. 0. 0.]\n",
            " [0. 0. 0. 0.]\n",
            " [0. 0. 0. 0.]]\n"
          ],
          "name": "stdout"
        }
      ]
    },
    {
      "cell_type": "markdown",
      "metadata": {
        "id": "LrqEz4dOVCkj"
      },
      "source": [
        "Аналогично, функция `np.ones` вернёт массив заданной формы, состоящий из единиц:"
      ]
    },
    {
      "cell_type": "code",
      "metadata": {
        "id": "ZXnJRjnXVCkj",
        "outputId": "93bfe4bc-5a38-48e1-f3fc-2490778e15d9"
      },
      "source": [
        "b = np.ones((3, 4))\n",
        "\n",
        "print(b)"
      ],
      "execution_count": null,
      "outputs": [
        {
          "output_type": "stream",
          "text": [
            "[[1. 1. 1. 1.]\n",
            " [1. 1. 1. 1.]\n",
            " [1. 1. 1. 1.]]\n"
          ],
          "name": "stdout"
        }
      ]
    },
    {
      "cell_type": "markdown",
      "metadata": {
        "id": "M33LQ3QpVCkj"
      },
      "source": [
        "Последовательности чисел можно создавать с помощью функции `np.arange`. Вот три способа использовать эту функцию:\n",
        "\n",
        "* Если задать только один аргумент, то вернётся последовательность чисел от $0$ до этого аргумента невключительно:"
      ]
    },
    {
      "cell_type": "code",
      "metadata": {
        "id": "S_2ggZrgVCkj",
        "outputId": "86af8f86-4509-4aec-95bc-b47136cd8707"
      },
      "source": [
        "ar1 = np.arange(10)\n",
        "\n",
        "print(ar1)"
      ],
      "execution_count": null,
      "outputs": [
        {
          "output_type": "stream",
          "text": [
            "[0 1 2 3 4 5 6 7 8 9]\n"
          ],
          "name": "stdout"
        }
      ]
    },
    {
      "cell_type": "markdown",
      "metadata": {
        "id": "ddgi3sq7VCkj"
      },
      "source": [
        "* Если подать два аргумента, то вернётся последовательность чисел от первого аргумента до второго (включая первый, не включая второй):"
      ]
    },
    {
      "cell_type": "code",
      "metadata": {
        "id": "msb2a9IXVCkj",
        "outputId": "425022ed-aaaa-470e-b3f8-f32aef0b0007"
      },
      "source": [
        "ar2 = np.arange(2, 13)\n",
        "\n",
        "print(ar2)"
      ],
      "execution_count": null,
      "outputs": [
        {
          "output_type": "stream",
          "text": [
            "[ 2  3  4  5  6  7  8  9 10 11 12]\n"
          ],
          "name": "stdout"
        }
      ]
    },
    {
      "cell_type": "markdown",
      "metadata": {
        "id": "66WgqkumVCkk"
      },
      "source": [
        "* Если подать три аргумента, то третий аргумент будет обозначать шаг, с которым берутся числа в последовательности:"
      ]
    },
    {
      "cell_type": "code",
      "metadata": {
        "id": "8r7TGKcfVCkk",
        "outputId": "439e6b01-a178-47af-f3e5-ed8de49a694d"
      },
      "source": [
        "ar3 = np.arange(2, 13, 2)\n",
        "\n",
        "print(ar3)"
      ],
      "execution_count": null,
      "outputs": [
        {
          "output_type": "stream",
          "text": [
            "[ 2  4  6  8 10 12]\n"
          ],
          "name": "stdout"
        }
      ]
    },
    {
      "cell_type": "markdown",
      "metadata": {
        "id": "jum-sJvKVCkk"
      },
      "source": [
        "Отметим, что шаг в функции `np.arange` может быть дробным:"
      ]
    },
    {
      "cell_type": "code",
      "metadata": {
        "id": "dNQXkoGmVCkk",
        "outputId": "84ec0aac-3f3b-4463-c33e-f4d80e08a086"
      },
      "source": [
        "ar4 = np.arange(2, 3, 0.1)\n",
        "\n",
        "print(ar4)"
      ],
      "execution_count": null,
      "outputs": [
        {
          "output_type": "stream",
          "text": [
            "[2.  2.1 2.2 2.3 2.4 2.5 2.6 2.7 2.8 2.9]\n"
          ],
          "name": "stdout"
        }
      ]
    },
    {
      "cell_type": "markdown",
      "metadata": {
        "id": "PD0omv36VCkk"
      },
      "source": [
        "Если шаг отрицательный, то последовательность будет возвращена в обратном порядке:"
      ]
    },
    {
      "cell_type": "code",
      "metadata": {
        "id": "_TyEPiPfVCkk",
        "outputId": "01ecb4fc-c96b-4491-aada-f5bad68d5a45"
      },
      "source": [
        "ar5 = np.arange(3, 2, -0.1)\n",
        "\n",
        "print(ar5)"
      ],
      "execution_count": null,
      "outputs": [
        {
          "output_type": "stream",
          "text": [
            "[3.  2.9 2.8 2.7 2.6 2.5 2.4 2.3 2.2 2.1]\n"
          ],
          "name": "stdout"
        }
      ]
    },
    {
      "cell_type": "markdown",
      "metadata": {
        "id": "Zg0qaCZnVCkk"
      },
      "source": [
        "Ещё одна полезная функция здесь - это функция `np.linspace`. Она позволяет вернуть заданное количество значений, равномерно расставленных между заданными началом и концом отрезка. Отметим, что здесь и левый, и првый концы отрезка включаются в массив:"
      ]
    },
    {
      "cell_type": "code",
      "metadata": {
        "id": "0zgVHQVMVCkk",
        "outputId": "41fa3df3-b445-483e-8012-c25fbc4717ba"
      },
      "source": [
        "c = np.linspace(2, 3, 10)\n",
        "\n",
        "print(c)"
      ],
      "execution_count": null,
      "outputs": [
        {
          "output_type": "stream",
          "text": [
            "[2.         2.11111111 2.22222222 2.33333333 2.44444444 2.55555556\n",
            " 2.66666667 2.77777778 2.88888889 3.        ]\n"
          ],
          "name": "stdout"
        }
      ]
    },
    {
      "cell_type": "markdown",
      "metadata": {
        "id": "Q2CHN36AVCkk"
      },
      "source": [
        "Функция `np.logspace` имеет похожий эффект, отличие лишь в том, что в качестве начала и конца отрезка мы подаём не сами числа, а степени числа $10$. Например, в ячейке ниже мы задаём массив, содержащий $4$ значения, расставленных равномерно в пределах от $10^0 = 1$ до $10^3 = 1000$."
      ]
    },
    {
      "cell_type": "code",
      "metadata": {
        "id": "2IEOCZafVCkk",
        "outputId": "471d7d46-df58-43e1-90bd-afb975362fc6"
      },
      "source": [
        "d = np.logspace(0, 3, 4)\n",
        "\n",
        "print(d)"
      ],
      "execution_count": null,
      "outputs": [
        {
          "output_type": "stream",
          "text": [
            "[   1.   10.  100. 1000.]\n"
          ],
          "name": "stdout"
        }
      ]
    },
    {
      "cell_type": "markdown",
      "metadata": {
        "id": "GBWQdkVIVCkk"
      },
      "source": [
        "### Массивы случайных значений"
      ]
    },
    {
      "cell_type": "markdown",
      "metadata": {
        "id": "wP7ZrpiLVCkk"
      },
      "source": [
        "Функция `sample` из модуля `numpy.random` возвращает массив заданной формы, состоящий из чисел, взятых из равномерного распределения на отрезке $[0, 1)$."
      ]
    },
    {
      "cell_type": "code",
      "metadata": {
        "id": "tM3X1RvIVCkk",
        "outputId": "6e40f648-71d8-4d1b-d360-d501546b131f"
      },
      "source": [
        "a = np.random.sample((3, 4))\n",
        "\n",
        "print(a)"
      ],
      "execution_count": null,
      "outputs": [
        {
          "output_type": "stream",
          "text": [
            "[[0.93997522 0.3649222  0.1745136  0.57145376]\n",
            " [0.18031654 0.25954888 0.29623503 0.85737173]\n",
            " [0.86543438 0.62623889 0.6032358  0.14402853]]\n"
          ],
          "name": "stdout"
        }
      ]
    },
    {
      "cell_type": "markdown",
      "metadata": {
        "id": "Q_KsAUvKVCkk"
      },
      "source": [
        "Отметим, что в эту и другие представленные ниже функции можно подавать также не кортеж, а какое-то одно целое число. В этом случае вернётся одномерный массив заданного размера. Также в эти функции можно не подавать аргументы вовсе - в этом случае вернётся лишь одно число."
      ]
    },
    {
      "cell_type": "code",
      "metadata": {
        "id": "6oJXqdwOVCkk",
        "outputId": "7bcb6452-1c6f-4139-d377-984ced1fcffc"
      },
      "source": [
        "print(\"Одно значение: {}\".format(np.random.sample()))\n",
        "\n",
        "print(\"Три значения: {}\".format(np.random.sample(3)))"
      ],
      "execution_count": null,
      "outputs": [
        {
          "output_type": "stream",
          "text": [
            "Одно значение: 0.8883357156837364\n",
            "Три значения: [0.99517333 0.51290899 0.83561873]\n"
          ],
          "name": "stdout"
        }
      ]
    },
    {
      "cell_type": "markdown",
      "metadata": {
        "id": "5mt6__zTVCkk"
      },
      "source": [
        "Функция `randn` из модуля `numpy.random` возвращает аналогичный массив, но уже взятый из нормального распределения (со средним $0$ и среднеквадратическим отклонением $1$):"
      ]
    },
    {
      "cell_type": "code",
      "metadata": {
        "id": "ZRslYdUFVCkk",
        "outputId": "73916714-74b9-46ae-aed0-cca8eae8a593"
      },
      "source": [
        "b = np.random.randn(3, 4)\n",
        "\n",
        "print(b)"
      ],
      "execution_count": null,
      "outputs": [
        {
          "output_type": "stream",
          "text": [
            "[[-0.14194228  0.64165498  0.04953172 -0.41440644]\n",
            " [ 1.0850997  -0.87161821  0.54785693  0.18092246]\n",
            " [-0.03356476 -1.00275702 -0.62416943  1.55027964]]\n"
          ],
          "name": "stdout"
        }
      ]
    },
    {
      "cell_type": "markdown",
      "metadata": {
        "id": "O_L92f0IVCkl"
      },
      "source": [
        "Обратите внимание, что эта функция получает на вход не кортеж `tuple`, а просто последовательность размеров по каждому измерению.\n",
        "\n",
        "Функция `randint` возвращает массив из целых чисел в указанном диапазоне:"
      ]
    },
    {
      "cell_type": "code",
      "metadata": {
        "id": "Se4hIkNIVCkl",
        "outputId": "deb999e8-a367-4cbc-f897-c46d278f972e"
      },
      "source": [
        "c = np.random.randint(0, 100, (3, 4))\n",
        "\n",
        "print(c)"
      ],
      "execution_count": null,
      "outputs": [
        {
          "output_type": "stream",
          "text": [
            "[[78 38 56 21]\n",
            " [18 12 80 22]\n",
            " [33 71 35 22]]\n"
          ],
          "name": "stdout"
        }
      ]
    },
    {
      "cell_type": "markdown",
      "metadata": {
        "id": "t-iaZ8YHVCkl"
      },
      "source": [
        "Функция `choice` возвращает случайно выбранные элементы из заранее заданного массива:"
      ]
    },
    {
      "cell_type": "code",
      "metadata": {
        "id": "dVW4rMvBVCkl",
        "outputId": "33e5e2dd-3397-4e99-8c27-4d7b8fe975a2"
      },
      "source": [
        "A = np.arange(-10, 0)\n",
        "\n",
        "d = np.random.choice(A, (3, 4))\n",
        "\n",
        "print(d)"
      ],
      "execution_count": null,
      "outputs": [
        {
          "output_type": "stream",
          "text": [
            "[[ -1  -9  -9  -3]\n",
            " [ -9  -5  -9  -5]\n",
            " [ -6  -6  -7 -10]]\n"
          ],
          "name": "stdout"
        }
      ]
    },
    {
      "cell_type": "markdown",
      "metadata": {
        "id": "_tfFs3C7VCkl"
      },
      "source": [
        "### Изменение размеров массива\n",
        "\n",
        "Библиотека `numpy` предоставляет функционал для удобного изменения размера массивов.\n",
        "\n",
        "Например, рассмотрим одномерный массив с $12$ элементами:"
      ]
    },
    {
      "cell_type": "code",
      "metadata": {
        "id": "s4pdfwp7VCkl",
        "outputId": "c203e69a-4686-4b08-9353-734eeab65057"
      },
      "source": [
        "ar = np.arange(12)\n",
        "\n",
        "print(ar)"
      ],
      "execution_count": null,
      "outputs": [
        {
          "output_type": "stream",
          "text": [
            "[ 0  1  2  3  4  5  6  7  8  9 10 11]\n"
          ],
          "name": "stdout"
        }
      ]
    },
    {
      "cell_type": "markdown",
      "metadata": {
        "id": "J9rRdM6aVCkl"
      },
      "source": [
        "Если нам нужно расположить эти значения в двумерном массиве, мы можем сделать это с помощью функции `np.reshape` или метода `ar.reshape`:"
      ]
    },
    {
      "cell_type": "code",
      "metadata": {
        "id": "ImaA7TgqVCkl",
        "outputId": "59260a6d-de53-4cf0-8460-f10a3c3fbaa9"
      },
      "source": [
        "a = ar.reshape(3, 4)\n",
        "\n",
        "print(a)"
      ],
      "execution_count": null,
      "outputs": [
        {
          "output_type": "stream",
          "text": [
            "[[ 0  1  2  3]\n",
            " [ 4  5  6  7]\n",
            " [ 8  9 10 11]]\n"
          ],
          "name": "stdout"
        }
      ]
    },
    {
      "cell_type": "markdown",
      "metadata": {
        "id": "olrnchVbVCkl"
      },
      "source": [
        "Ясно, что при этом число элементов получаемого массива должно совпадать с числом элементов в оригинальном массиве. Например, следующая попытка посчитать функцию закончится ошибкой:"
      ]
    },
    {
      "cell_type": "code",
      "metadata": {
        "id": "bAUPcJj7VCkl",
        "outputId": "df388004-1bbd-4bdd-a4f2-1f3aa389efc9"
      },
      "source": [
        "b = ar.reshape(3, 5)"
      ],
      "execution_count": null,
      "outputs": [
        {
          "output_type": "error",
          "ename": "ValueError",
          "evalue": "cannot reshape array of size 12 into shape (3,5)",
          "traceback": [
            "\u001b[0;31m---------------------------------------------------------------------------\u001b[0m",
            "\u001b[0;31mValueError\u001b[0m                                Traceback (most recent call last)",
            "\u001b[0;32m<ipython-input-62-92cdbc10f6ee>\u001b[0m in \u001b[0;36m<module>\u001b[0;34m\u001b[0m\n\u001b[0;32m----> 1\u001b[0;31m \u001b[0mb\u001b[0m \u001b[0;34m=\u001b[0m \u001b[0mar\u001b[0m\u001b[0;34m.\u001b[0m \u001b[0mreshape\u001b[0m\u001b[0;34m(\u001b[0m\u001b[0;36m3\u001b[0m\u001b[0;34m,\u001b[0m \u001b[0;36m5\u001b[0m\u001b[0;34m)\u001b[0m\u001b[0;34m\u001b[0m\u001b[0;34m\u001b[0m\u001b[0m\n\u001b[0m",
            "\u001b[0;31mValueError\u001b[0m: cannot reshape array of size 12 into shape (3,5)"
          ]
        }
      ]
    },
    {
      "cell_type": "markdown",
      "metadata": {
        "id": "0La1DDAjVCkl"
      },
      "source": [
        "Если мы знаем количество строк, которое хотим получить, но не знаем количество столбцов, в качестве второго аргумента можно передать число $-1$. Если наоборот мы знаем лишь количество столбцов, можно передать $-1$ в качестве первого аргумента."
      ]
    },
    {
      "cell_type": "code",
      "metadata": {
        "id": "RTDlQpdhVCkl",
        "outputId": "5a53bea4-664c-4546-b555-c1c2608ddc31"
      },
      "source": [
        "b = ar.reshape(3, -1)\n",
        "\n",
        "print(b)"
      ],
      "execution_count": null,
      "outputs": [
        {
          "output_type": "stream",
          "text": [
            "[[ 0  1  2  3]\n",
            " [ 4  5  6  7]\n",
            " [ 8  9 10 11]]\n"
          ],
          "name": "stdout"
        }
      ]
    },
    {
      "cell_type": "markdown",
      "metadata": {
        "id": "joKNPQxbVCkl"
      },
      "source": [
        "Метод `ar.reshape` не меняет сам массив `ar`, он лишь возвращает новый. Есть также метод `ar.resize`, который делает то же самое, что и `ar.reshape`, но не возвращает ничего и меняет исходный массив:"
      ]
    },
    {
      "cell_type": "code",
      "metadata": {
        "id": "EpOWnPSAVCkl",
        "outputId": "744556dd-3faa-4f12-b70b-1a5ed7d5f7aa"
      },
      "source": [
        "ar.resize(3, 4)\n",
        "\n",
        "print(ar)"
      ],
      "execution_count": null,
      "outputs": [
        {
          "output_type": "stream",
          "text": [
            "[[ 0  1  2  3]\n",
            " [ 4  5  6  7]\n",
            " [ 8  9 10 11]]\n"
          ],
          "name": "stdout"
        }
      ]
    },
    {
      "cell_type": "markdown",
      "metadata": {
        "id": "9SywR_cxVCkl"
      },
      "source": [
        "Обратно, чтобы получить из многомерного массива одномерный, можно воспользоваться методом `ar.flatten`:"
      ]
    },
    {
      "cell_type": "code",
      "metadata": {
        "id": "KXxRF0huVCkl",
        "outputId": "7ed7f0f7-638e-45c3-ae3c-9019db11941e"
      },
      "source": [
        "c = ar.flatten()\n",
        "\n",
        "print(c)"
      ],
      "execution_count": null,
      "outputs": [
        {
          "output_type": "stream",
          "text": [
            "[ 0  1  2  3  4  5  6  7  8  9 10 11]\n"
          ],
          "name": "stdout"
        }
      ]
    },
    {
      "cell_type": "markdown",
      "metadata": {
        "id": "cKOAKk74VCkl"
      },
      "source": [
        "### Соединение массивов\n",
        "\n",
        "Рассмотрим два массива и разберёмся с тем, как их можно соединить в один."
      ]
    },
    {
      "cell_type": "code",
      "metadata": {
        "id": "7RL11xJXVCkl"
      },
      "source": [
        "a = np.zeros((2, 3))\n",
        "\n",
        "b = np.ones((2, 3))"
      ],
      "execution_count": null,
      "outputs": []
    },
    {
      "cell_type": "markdown",
      "metadata": {
        "id": "FoOVlCq5VCkl"
      },
      "source": [
        "Мы можем соединить эти массивы вертикально (т.е. дописать один под другим). Вот несколько способов это сделать:\n",
        "\n",
        "* с помощью функции `np.vstack`: `c = np.vstack((a, b))` (получает на вход кортеж из массивов)\n",
        "* с помощью функции `np.concatenate`: `c = np.concatenate((a, b), axis=0)` (тоже получает на вход кортеж, также нужно указать, вдоль какой оси производится конкатенация)"
      ]
    },
    {
      "cell_type": "code",
      "metadata": {
        "id": "ia182Q2BVCkl",
        "outputId": "24265418-0861-4708-d15c-5bd386605819"
      },
      "source": [
        "c = np.vstack((a, b))\n",
        "\n",
        "print(c)"
      ],
      "execution_count": null,
      "outputs": [
        {
          "output_type": "stream",
          "text": [
            "[[0. 0. 0.]\n",
            " [0. 0. 0.]\n",
            " [1. 1. 1.]\n",
            " [1. 1. 1.]]\n"
          ],
          "name": "stdout"
        }
      ]
    },
    {
      "cell_type": "markdown",
      "metadata": {
        "id": "Y7po0AyhVCkl"
      },
      "source": [
        "Также несколько способов это соединить массивы горизонтально (т.е. дописать один правее другого):\n",
        "\n",
        "* с помощью функции `np.hstack`: `c = np.hstack((a, b))`\n",
        "* с помощью функции `np.concatenate`: `c = np.concatenate((a, b), axis=1)` (производится теперь вдоль оси $1$)"
      ]
    },
    {
      "cell_type": "code",
      "metadata": {
        "id": "Beb5GflQVCkl",
        "outputId": "df9abda5-41c9-4002-c434-ff5298f32179"
      },
      "source": [
        "d = np.concatenate((a, b), axis=1)\n",
        "\n",
        "print(d)"
      ],
      "execution_count": null,
      "outputs": [
        {
          "output_type": "stream",
          "text": [
            "[[0. 0. 0. 1. 1. 1.]\n",
            " [0. 0. 0. 1. 1. 1.]]\n"
          ],
          "name": "stdout"
        }
      ]
    },
    {
      "cell_type": "markdown",
      "metadata": {
        "id": "gPDOg84DVCkl"
      },
      "source": [
        "Наконец, два двумерных массива можно соединить _в глубину_ (т.е. вдоль новой третьей оси) с помощью функции `np.dstack`:"
      ]
    },
    {
      "cell_type": "code",
      "metadata": {
        "id": "wFDzfeWGVCkl",
        "outputId": "18902d55-4e64-462c-ee67-4aa6d4476dc5"
      },
      "source": [
        "e = np.dstack((a, b))\n",
        "\n",
        "print(e)"
      ],
      "execution_count": null,
      "outputs": [
        {
          "output_type": "stream",
          "text": [
            "[[[0. 1.]\n",
            "  [0. 1.]\n",
            "  [0. 1.]]\n",
            "\n",
            " [[0. 1.]\n",
            "  [0. 1.]\n",
            "  [0. 1.]]]\n"
          ],
          "name": "stdout"
        }
      ]
    },
    {
      "cell_type": "markdown",
      "metadata": {
        "id": "Hy4o0TsdVCkl"
      },
      "source": [
        "## Функции для работы с данными\n",
        "\n",
        "Библиотека `numpy` предлагает удобный функционал для выбора данных из массива. Рассмотрим массив из $10$ случайных целых значений от $0$ до $19$:"
      ]
    },
    {
      "cell_type": "code",
      "metadata": {
        "id": "9CRsjO2HVCkl",
        "outputId": "0e258b6d-38ce-48e4-ec88-b91af2d29be4"
      },
      "source": [
        "a = np.random.randint(0, 20, 10)\n",
        "\n",
        "print(a)"
      ],
      "execution_count": null,
      "outputs": [
        {
          "output_type": "stream",
          "text": [
            "[19  9 11  3 14 14 15 16  8  5]\n"
          ],
          "name": "stdout"
        }
      ]
    },
    {
      "cell_type": "markdown",
      "metadata": {
        "id": "Bx4egC5hVCkl"
      },
      "source": [
        "Допустим, мы хотим выбрать все значения этого массива, которые больше $10$. Вот как это можно сделать:"
      ]
    },
    {
      "cell_type": "code",
      "metadata": {
        "id": "LKiYsvmYVCkl",
        "outputId": "795bde5f-4472-431a-b3af-ca171c05a5b9"
      },
      "source": [
        "b = a[a > 10]\n",
        "\n",
        "print(b)"
      ],
      "execution_count": null,
      "outputs": [
        {
          "output_type": "stream",
          "text": [
            "[19 11 14 14 15 16]\n"
          ],
          "name": "stdout"
        }
      ]
    },
    {
      "cell_type": "markdown",
      "metadata": {
        "id": "Fzk7XShHVCkl"
      },
      "source": [
        "Свойства можно комбинировать, используя логические операторы \"и\" (обозначается символом $\\&$), \"или\" (символ $\\mid$) и оператор отрицания \"не\" (символ $\\sim$). При этом каждое условие необходимо поставить в круглые скобки:"
      ]
    },
    {
      "cell_type": "code",
      "metadata": {
        "id": "XvzUibBHVCkl",
        "outputId": "6a61b9c5-2258-4506-bfd1-d68cff89efc0"
      },
      "source": [
        "c = a[(a > 0) & (a % 2 == 0)]\n",
        "\n",
        "print(c)"
      ],
      "execution_count": null,
      "outputs": [
        {
          "output_type": "stream",
          "text": [
            "[14 14 16  8]\n"
          ],
          "name": "stdout"
        }
      ]
    },
    {
      "cell_type": "markdown",
      "metadata": {
        "id": "65h91En1VCkl"
      },
      "source": [
        "Такая конструкция в `numpy` называется _булевой индексацией_. Разберёмся с ней поподробнее. Что из себя представляет объект `a > 0`?"
      ]
    },
    {
      "cell_type": "code",
      "metadata": {
        "id": "8PgEJe0cVCkl",
        "outputId": "35bf8814-b89e-4e84-ce02-4abe04dcedc9"
      },
      "source": [
        "print(a > 10)"
      ],
      "execution_count": null,
      "outputs": [
        {
          "output_type": "stream",
          "text": [
            "[ True False  True False  True  True  True  True False False]\n"
          ],
          "name": "stdout"
        }
      ]
    },
    {
      "cell_type": "markdown",
      "metadata": {
        "id": "MgWnXT0gVCkl"
      },
      "source": [
        "Как мы видим, это просто `numpy`-массив из булевых значений `True` и `False`. Когда мы подставляем такой массив в качестве _индекса_ массива `a`, нам возвращаются все элементы, на позиции которых в этом массиве стоит значение `True`.\n",
        "\n",
        "Можно просто создать такой массив вручную и передать его в качестве индекса:"
      ]
    },
    {
      "cell_type": "code",
      "metadata": {
        "id": "YDJmHqu-VCkl",
        "outputId": "6dd6c2b0-9d50-4a29-8fae-ed9830af0db5"
      },
      "source": [
        "ind = np.array([True, False, True, True, False, False, False, True, True, False])\n",
        "\n",
        "print(a[ind])"
      ],
      "execution_count": null,
      "outputs": [
        {
          "output_type": "stream",
          "text": [
            "[19 11  3 16  8]\n"
          ],
          "name": "stdout"
        }
      ]
    },
    {
      "cell_type": "markdown",
      "metadata": {
        "id": "jzQtEsJEVCkl"
      },
      "source": [
        "Другой способ выбрать значения из массива - с помощью функции `np.where`. Она берёт массив из булевых значений и возвращает _индексы_ истинных значений:"
      ]
    },
    {
      "cell_type": "code",
      "metadata": {
        "id": "mqojIy9rVCkl",
        "outputId": "00185ce0-b615-4249-b7e4-ea1bbfd2a987"
      },
      "source": [
        "ind1 = np.where(a > 10)\n",
        "\n",
        "print(ind1)"
      ],
      "execution_count": null,
      "outputs": [
        {
          "output_type": "stream",
          "text": [
            "(array([0, 2, 4, 5, 6, 7]),)\n"
          ],
          "name": "stdout"
        }
      ]
    },
    {
      "cell_type": "markdown",
      "metadata": {
        "id": "tf3WpO1ZVCkm"
      },
      "source": [
        "Такой список индексов можно также передать в массив `a` чтобы получить конкретные значения:"
      ]
    },
    {
      "cell_type": "code",
      "metadata": {
        "id": "GVTZbJhiVCkm",
        "outputId": "6a70e0a3-92f8-40da-d079-e610e895d6ac"
      },
      "source": [
        "d = a[ind1]\n",
        "\n",
        "print(d)"
      ],
      "execution_count": null,
      "outputs": [
        {
          "output_type": "stream",
          "text": [
            "[19 11 14 14 15 16]\n"
          ],
          "name": "stdout"
        }
      ]
    },
    {
      "cell_type": "markdown",
      "metadata": {
        "id": "3NFUstVYVCkm"
      },
      "source": [
        "То же самое можно сделать и вручную: передать в квадратные скобки массива `a` какой-нибудь список из индексов:"
      ]
    },
    {
      "cell_type": "code",
      "metadata": {
        "id": "wlJh8vBYVCkm",
        "outputId": "dea4b546-0b2c-4a1d-d079-0f7ee64a86b7"
      },
      "source": [
        "e = a[[0, 4, 7]]\n",
        "\n",
        "print(e)"
      ],
      "execution_count": null,
      "outputs": [
        {
          "output_type": "stream",
          "text": [
            "[19 14 16]\n"
          ],
          "name": "stdout"
        }
      ]
    },
    {
      "cell_type": "markdown",
      "metadata": {
        "id": "UHaGQRyfVCkm"
      },
      "source": [
        "Отметим также, что если массив `a` является многомерным, то чтобы выбрать таким образом из него значения, нужно указать внутри квадратных скобок через запятую столько списков, сколько имеется у массива измерений:"
      ]
    },
    {
      "cell_type": "code",
      "metadata": {
        "id": "Pn5YuDN4VCkm",
        "outputId": "f64bf334-c888-4b09-e867-4adec590e1a7"
      },
      "source": [
        "a.resize((5, 2))\n",
        "\n",
        "print(a)"
      ],
      "execution_count": null,
      "outputs": [
        {
          "output_type": "stream",
          "text": [
            "[[19  9]\n",
            " [11  3]\n",
            " [14 14]\n",
            " [15 16]\n",
            " [ 8  5]]\n"
          ],
          "name": "stdout"
        }
      ]
    },
    {
      "cell_type": "code",
      "metadata": {
        "id": "aDOzWCVOVCkm",
        "outputId": "76d7741d-0c19-4b48-c586-c02a4fef68a1"
      },
      "source": [
        "f = a[[1, 4], :]\n",
        "\n",
        "print(f)"
      ],
      "execution_count": null,
      "outputs": [
        {
          "output_type": "stream",
          "text": [
            "[[11  3]\n",
            " [ 8  5]]\n"
          ],
          "name": "stdout"
        }
      ]
    },
    {
      "cell_type": "markdown",
      "metadata": {
        "id": "iv8LIxo_VCkm"
      },
      "source": [
        "### Сортировка\n",
        "\n",
        "Рассмотрим двумерный массив:"
      ]
    },
    {
      "cell_type": "code",
      "metadata": {
        "id": "9gxe4HdoVCkm",
        "outputId": "c373a9a8-79f1-40d9-bad3-a88789844964"
      },
      "source": [
        "a = np.random.randint(0, 6, (3, 4))\n",
        "\n",
        "print(a)"
      ],
      "execution_count": null,
      "outputs": [
        {
          "output_type": "stream",
          "text": [
            "[[2 4 3 3]\n",
            " [2 2 2 4]\n",
            " [5 2 0 3]]\n"
          ],
          "name": "stdout"
        }
      ]
    },
    {
      "cell_type": "markdown",
      "metadata": {
        "id": "3Mdh7BYTVCkm"
      },
      "source": [
        "Допустим, мы хотим отсортировать строки этого массива по второму столбцу. Мы можем сделать это вручную, задав индексы строк в нужном нам порядке:"
      ]
    },
    {
      "cell_type": "code",
      "metadata": {
        "id": "jUGqW02LVCkm",
        "outputId": "b9c7a5af-52ab-43bf-8d5d-a4c9cec71964"
      },
      "source": [
        "b = a[[1, 2, 0], :]\n",
        "\n",
        "print(b)"
      ],
      "execution_count": null,
      "outputs": [
        {
          "output_type": "stream",
          "text": [
            "[[2 2 2 4]\n",
            " [5 2 0 3]\n",
            " [2 4 3 3]]\n"
          ],
          "name": "stdout"
        }
      ]
    },
    {
      "cell_type": "markdown",
      "metadata": {
        "id": "cQlwDDgXVCkm"
      },
      "source": [
        "Этот процесс можно автоматизировать с помощью метода `a.argsort`. Данный метод возвращает массив из индексов массива `a` в порядке их возрастания по заданной оси:"
      ]
    },
    {
      "cell_type": "code",
      "metadata": {
        "id": "62Nf1glkVCkm",
        "outputId": "3a5e4b8e-ab23-463f-b09f-6ece023dd44f"
      },
      "source": [
        "ind = a.argsort(axis=0)\n",
        "\n",
        "print(ind)"
      ],
      "execution_count": null,
      "outputs": [
        {
          "output_type": "stream",
          "text": [
            "[[0 1 2 0]\n",
            " [1 2 1 2]\n",
            " [2 0 0 1]]\n"
          ],
          "name": "stdout"
        }
      ]
    },
    {
      "cell_type": "markdown",
      "metadata": {
        "id": "XPLoWI5-VCkm"
      },
      "source": [
        "В каждом столбце этого массива стоят индексы строк массива `a`, расположенные в том порядке, в котором они бы отсортировали данный столбец по возрастанию. Автоматизируем процесс сортировки массива `a` по второму столбцу. Для этого нужно получить второй столбец из массива, полученного с помощью метода `a.argsort`:"
      ]
    },
    {
      "cell_type": "code",
      "metadata": {
        "id": "bf4ckTE5VCkm",
        "outputId": "33d0b322-e44d-4a4a-ad36-4a7f48bc55ab"
      },
      "source": [
        "ind1 = a[:, 1].argsort()\n",
        "\n",
        "print(ind1)"
      ],
      "execution_count": null,
      "outputs": [
        {
          "output_type": "stream",
          "text": [
            "[1 2 0]\n"
          ],
          "name": "stdout"
        }
      ]
    },
    {
      "cell_type": "markdown",
      "metadata": {
        "id": "UpghpUIvVCkm"
      },
      "source": [
        "Итоговая конструкция будет выглядеть так:"
      ]
    },
    {
      "cell_type": "code",
      "metadata": {
        "id": "AHgiyuXyVCkm",
        "outputId": "5f74c003-b334-432f-ffb2-2a92b576b4f4"
      },
      "source": [
        "c = a[a[:, 1].argsort(), :]\n",
        "\n",
        "print(c)"
      ],
      "execution_count": null,
      "outputs": [
        {
          "output_type": "stream",
          "text": [
            "[[2 2 2 4]\n",
            " [5 2 0 3]\n",
            " [2 4 3 3]]\n"
          ],
          "name": "stdout"
        }
      ]
    },
    {
      "cell_type": "markdown",
      "metadata": {
        "id": "pWBEnChSVCkm"
      },
      "source": [
        "### Перемешивание\n",
        "\n",
        "Иногда оказывается нужно перемешать значения массива. Это можно сделать с помощью функции `shuffle` из модуля `numpy.random`. Эта функция ничего не возвращает, лишь перемешивает случайным образом элементы данного массива. Отметим, что она перемешивает массив только в первом измерении. Другими словами, если массив двумерный, она лишь переставит его строки местами. Содержимое самих строк при этом не изменится:"
      ]
    },
    {
      "cell_type": "code",
      "metadata": {
        "id": "O9Pzvhx5VCkm",
        "outputId": "ffa73f83-8472-4c00-8006-ac0342fa9ac2"
      },
      "source": [
        "np.random.shuffle(c)\n",
        "\n",
        "print(c)"
      ],
      "execution_count": null,
      "outputs": [
        {
          "output_type": "stream",
          "text": [
            "[[2 4 3 3]\n",
            " [5 2 0 3]\n",
            " [2 2 2 4]]\n"
          ],
          "name": "stdout"
        }
      ]
    },
    {
      "cell_type": "markdown",
      "metadata": {
        "id": "JrJqK4WmVCkm"
      },
      "source": [
        "### Математические операции над массивами\n",
        "\n",
        "Некоторые математические операции можно выполнять с массивами целиком. Например, мы уже знаем, что массивы можно умножать на число и что массивы одинаковой формы можно складывать."
      ]
    },
    {
      "cell_type": "code",
      "metadata": {
        "id": "hDDrnKPXVCkm",
        "outputId": "dded7673-27c1-4bc7-be56-f11ee90d21e9"
      },
      "source": [
        "a = np.arange(0, 6).reshape(2, 3)\n",
        "b = np.arange(6, 12).reshape(2, 3)\n",
        "\n",
        "print(a)\n",
        "print(b)"
      ],
      "execution_count": null,
      "outputs": [
        {
          "output_type": "stream",
          "text": [
            "[[0 1 2]\n",
            " [3 4 5]]\n",
            "[[ 6  7  8]\n",
            " [ 9 10 11]]\n"
          ],
          "name": "stdout"
        }
      ]
    },
    {
      "cell_type": "code",
      "metadata": {
        "id": "nr95C-DEVCkm",
        "outputId": "f268e5d0-5fc4-4055-99e6-3c17050c7b15"
      },
      "source": [
        "print(a + b)"
      ],
      "execution_count": null,
      "outputs": [
        {
          "output_type": "stream",
          "text": [
            "[[ 6  8 10]\n",
            " [12 14 16]]\n"
          ],
          "name": "stdout"
        }
      ]
    },
    {
      "cell_type": "code",
      "metadata": {
        "id": "zD2RStw9VCkm",
        "outputId": "69cdb93e-fede-4a94-8e60-02a78043aea6"
      },
      "source": [
        "print(a * 2)"
      ],
      "execution_count": null,
      "outputs": [
        {
          "output_type": "stream",
          "text": [
            "[[ 0  2  4]\n",
            " [ 6  8 10]]\n"
          ],
          "name": "stdout"
        }
      ]
    },
    {
      "cell_type": "markdown",
      "metadata": {
        "id": "_-zOJnf3VCkn"
      },
      "source": [
        "К массивам можно также прибавлять числа - в этом случае к каждому элементу массива прибавляется число:"
      ]
    },
    {
      "cell_type": "code",
      "metadata": {
        "id": "e733cJVHVCkn",
        "outputId": "ae0d213c-ae71-49bf-da68-5050cf78dbd0"
      },
      "source": [
        "print(a + 1)"
      ],
      "execution_count": null,
      "outputs": [
        {
          "output_type": "stream",
          "text": [
            "[[1 2 3]\n",
            " [4 5 6]]\n"
          ],
          "name": "stdout"
        }
      ]
    },
    {
      "cell_type": "markdown",
      "metadata": {
        "id": "oqdbNvDxVCkn"
      },
      "source": [
        "Массивы одинакового размера можно поэлементно умножать. (Важно не путать с матричным умножением.)"
      ]
    },
    {
      "cell_type": "code",
      "metadata": {
        "id": "22aYU9PKVCkn",
        "outputId": "5d8e6359-6704-432b-c7c2-dd30b6b582ea"
      },
      "source": [
        "print(a * b)"
      ],
      "execution_count": null,
      "outputs": [
        {
          "output_type": "stream",
          "text": [
            "[[ 0  7 16]\n",
            " [27 40 55]]\n"
          ],
          "name": "stdout"
        }
      ]
    },
    {
      "cell_type": "markdown",
      "metadata": {
        "id": "qzBg2G4MVCkn"
      },
      "source": [
        "С помощью метода `a.sum` можно посчитать сумму всех значений массива. Если указать в этом методе ось `axis`, сумма будет посчитана только вдоль этой оси:"
      ]
    },
    {
      "cell_type": "code",
      "metadata": {
        "id": "VzrnOpLyVCkn",
        "outputId": "b98b7f44-2f24-4a31-b11b-0f0ed4255918"
      },
      "source": [
        "print(\"Сумма всех элементов: {}\".format(a.sum()))\n",
        "\n",
        "print('Сумма по столбцам (\"вдоль\" строк): {}'.format(a.sum(axis=0)))\n",
        "\n",
        "print('Сумма по строкам (\"вдоль\" столбцов): {}'.format(a.sum(axis=1)))"
      ],
      "execution_count": null,
      "outputs": [
        {
          "output_type": "stream",
          "text": [
            "Сумма всех элементов: 15\n",
            "Сумма по столбцам (\"вдоль\" строк): [3 5 7]\n",
            "Сумма по строкам (\"вдоль\" столбцов): [ 3 12]\n"
          ],
          "name": "stdout"
        }
      ]
    },
    {
      "cell_type": "markdown",
      "metadata": {
        "id": "OX5frGgwGeyI"
      },
      "source": [
        "#### Broadcasting\n",
        "\n",
        "В определённых случаях мы можем выполнять операции сложения и умножения над матрицами разных размеров. Концепция _broadcasting_ заключается в том, что в некоторых случаях интерпретатор \"догадывается\", что одну массив надо в каком-то измерении \"растянуть\" до соответствия со вторым массивом. Рассмотрим массив размера $3 \\times 2$:"
      ]
    },
    {
      "cell_type": "code",
      "metadata": {
        "id": "eSBsNaSiVCkn"
      },
      "source": [
        "a = np.array([[2, 5],\n",
        "              [3, 4],\n",
        "              [6, 1]])"
      ],
      "execution_count": null,
      "outputs": []
    },
    {
      "cell_type": "markdown",
      "metadata": {
        "id": "aYjfsqO7VCkn"
      },
      "source": [
        "а также одномерный массив размера $2$:"
      ]
    },
    {
      "cell_type": "code",
      "metadata": {
        "id": "PPZE9__ZVCkn"
      },
      "source": [
        "b = np.array([1, 2])"
      ],
      "execution_count": null,
      "outputs": []
    },
    {
      "cell_type": "markdown",
      "metadata": {
        "id": "wxr0KLXqVCkn"
      },
      "source": [
        "Если мы попытаемся их сложить, интерпретатор заметит, что у них совпадает одно из измерений: у них обоих $2$ столбца. Поэтому интерпретатор как бы \"растянет\" массив `b` до размера $2 \\times 3$ и прибавит его к массиву `a`:"
      ]
    },
    {
      "cell_type": "code",
      "metadata": {
        "id": "8XVm_2-DVCkn",
        "outputId": "fd156532-0b70-40c2-8d0d-5b5bb09bb808"
      },
      "source": [
        "c = a + b\n",
        "\n",
        "print(c)"
      ],
      "execution_count": null,
      "outputs": [
        {
          "output_type": "stream",
          "text": [
            "[[3 7]\n",
            " [4 6]\n",
            " [7 3]]\n"
          ],
          "name": "stdout"
        }
      ]
    },
    {
      "cell_type": "markdown",
      "metadata": {
        "id": "nRih-__mVCkn"
      },
      "source": [
        "На самом деле здесь строка `b` просто прибавится к каждой строке массива `a`.\n",
        "\n",
        "Аналогично можно поступить и со столбцами:"
      ]
    },
    {
      "cell_type": "code",
      "metadata": {
        "id": "AFjyc7mtVCkn",
        "outputId": "7b77d6d6-a1a8-4229-ff21-ca68e916ea94"
      },
      "source": [
        "d = np.array([[0],\n",
        "              [1],\n",
        "              [-1]])\n",
        "\n",
        "e = a + d\n",
        "\n",
        "print(e)"
      ],
      "execution_count": null,
      "outputs": [
        {
          "output_type": "stream",
          "text": [
            "[[2 5]\n",
            " [4 5]\n",
            " [5 0]]\n"
          ],
          "name": "stdout"
        }
      ]
    },
    {
      "cell_type": "markdown",
      "metadata": {
        "id": "pwKpfgWrVCkn"
      },
      "source": [
        "Интерпретатор заметит, что у этих массивов совпадает число строк, поэтому \"растянет\" массив `d` до размера массива `a`. Попросту говоря, столбец `b` прибавится к каждому из столбцов массива `a`.\n",
        "\n",
        "Имеются и более сложные конструкции broadcasting, о них можно почитать [здесь](https://docs.scipy.org/doc/numpy/user/basics.broadcasting.html).\n",
        "\n",
        "В случае, когда размеры массивов согласовать не удаётся, выпадает ошибка:"
      ]
    },
    {
      "cell_type": "code",
      "metadata": {
        "id": "ZWkktl7vVCkn",
        "outputId": "b29b0e13-10b0-4a42-a653-c503bc1b2ebf"
      },
      "source": [
        "f = np.array([0, 1, -1])\n",
        "\n",
        "a + f"
      ],
      "execution_count": null,
      "outputs": [
        {
          "output_type": "error",
          "ename": "ValueError",
          "evalue": "operands could not be broadcast together with shapes (3,2) (3,) ",
          "traceback": [
            "\u001b[0;31m---------------------------------------------------------------------------\u001b[0m",
            "\u001b[0;31mValueError\u001b[0m                                Traceback (most recent call last)",
            "\u001b[0;32m<ipython-input-96-bbb4a55e5786>\u001b[0m in \u001b[0;36m<module>\u001b[0;34m\u001b[0m\n\u001b[1;32m      1\u001b[0m \u001b[0mf\u001b[0m \u001b[0;34m=\u001b[0m \u001b[0mnp\u001b[0m\u001b[0;34m.\u001b[0m\u001b[0marray\u001b[0m\u001b[0;34m(\u001b[0m\u001b[0;34m[\u001b[0m\u001b[0;36m0\u001b[0m\u001b[0;34m,\u001b[0m \u001b[0;36m1\u001b[0m\u001b[0;34m,\u001b[0m \u001b[0;34m-\u001b[0m\u001b[0;36m1\u001b[0m\u001b[0;34m]\u001b[0m\u001b[0;34m)\u001b[0m\u001b[0;34m\u001b[0m\u001b[0;34m\u001b[0m\u001b[0m\n\u001b[1;32m      2\u001b[0m \u001b[0;34m\u001b[0m\u001b[0m\n\u001b[0;32m----> 3\u001b[0;31m \u001b[0ma\u001b[0m \u001b[0;34m+\u001b[0m \u001b[0mf\u001b[0m\u001b[0;34m\u001b[0m\u001b[0;34m\u001b[0m\u001b[0m\n\u001b[0m",
            "\u001b[0;31mValueError\u001b[0m: operands could not be broadcast together with shapes (3,2) (3,) "
          ]
        }
      ]
    },
    {
      "cell_type": "markdown",
      "metadata": {
        "id": "zZFjhfRNVCkn"
      },
      "source": [
        "#### Статистические функции\n",
        "\n",
        "Вот несколько методов, позволяющих вычислить различные статистики массива `a`:\n",
        "\n",
        "* `a.min` - минимальное значение\n",
        "* `a.max` - максимальное значение\n",
        "* `a.mean` - среднее значение\n",
        "* `a.std` - среднее квадратическое отклонение\n",
        "\n",
        "Все эти значения считаются по всему массиву, либо вдоль определённой оси, если задан параметр `axis`."
      ]
    },
    {
      "cell_type": "code",
      "metadata": {
        "id": "KoBJN1zhVCkn",
        "outputId": "b14dd07b-7362-4eb6-b87b-16e954d9ab9f"
      },
      "source": [
        "print(a)"
      ],
      "execution_count": null,
      "outputs": [
        {
          "output_type": "stream",
          "text": [
            "[[2 5]\n",
            " [3 4]\n",
            " [6 1]]\n"
          ],
          "name": "stdout"
        }
      ]
    },
    {
      "cell_type": "code",
      "metadata": {
        "id": "vo_yhbvoVCkn",
        "outputId": "6d178850-6457-487c-c857-50b9261eadee"
      },
      "source": [
        "print(\"Минимальное значение: {}\".format(a.min()))\n",
        "\n",
        "print(\"Средние значения строк: {}\".format(a.mean(axis=1)))\n",
        "\n",
        "print(\"Средние квадратические отклонения столбцов: {}\".format(a.mean(axis=0)))"
      ],
      "execution_count": null,
      "outputs": [
        {
          "output_type": "stream",
          "text": [
            "Минимальное значение: 1\n",
            "Средние значения строк: [3.5 3.5 3.5]\n",
            "Средние квадратические отклонения столбцов: [3.66666667 3.33333333]\n"
          ],
          "name": "stdout"
        }
      ]
    },
    {
      "cell_type": "markdown",
      "metadata": {
        "id": "Jnjyvt2ZVCkn"
      },
      "source": [
        "### Запись и чтение массивов из файла\n",
        "\n",
        "Массивы `numpy` можно сохранять в файлы с расширением `.npy` и читать из таких файлов.\n",
        "\n",
        "Для записи массива в файл используется функция `np.save`:"
      ]
    },
    {
      "cell_type": "code",
      "metadata": {
        "id": "nk_L_TiIVCkn"
      },
      "source": [
        "np.save(\"a.npy\", a)"
      ],
      "execution_count": null,
      "outputs": []
    },
    {
      "cell_type": "markdown",
      "metadata": {
        "id": "IL2_CZVYVCkn"
      },
      "source": [
        "Для чтения из файла используется функция `np.load`:"
      ]
    },
    {
      "cell_type": "code",
      "metadata": {
        "id": "IuFO2JfNVCkn"
      },
      "source": [
        "a = np.load(\"a.npy\")"
      ],
      "execution_count": null,
      "outputs": []
    }
  ]
}